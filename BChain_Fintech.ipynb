{
  "nbformat": 4,
  "nbformat_minor": 0,
  "metadata": {
    "colab": {
      "provenance": []
    },
    "kernelspec": {
      "name": "python3",
      "display_name": "Python 3"
    },
    "language_info": {
      "name": "python"
    }
  },
  "cells": [
    {
      "cell_type": "code",
      "execution_count": 1,
      "metadata": {
        "colab": {
          "base_uri": "https://localhost:8080/"
        },
        "id": "IzaYbVQRXlMR",
        "outputId": "8cadd714-35f8-4f22-dcf9-4b9fb4453a6d"
      },
      "outputs": [
        {
          "output_type": "stream",
          "name": "stdout",
          "text": [
            "Collecting xrpl-py\n",
            "  Downloading xrpl_py-2.5.0-py3-none-any.whl (240 kB)\n",
            "\u001b[2K     \u001b[90m━━━━━━━━━━━━━━━━━━━━━━━━━━━━━━━━━━━━━━━━\u001b[0m \u001b[32m240.3/240.3 kB\u001b[0m \u001b[31m3.9 MB/s\u001b[0m eta \u001b[36m0:00:00\u001b[0m\n",
            "\u001b[?25hCollecting Deprecated<2.0.0,>=1.2.13 (from xrpl-py)\n",
            "  Downloading Deprecated-1.2.14-py2.py3-none-any.whl (9.6 kB)\n",
            "Collecting ECPy<2.0.0,>=1.2.5 (from xrpl-py)\n",
            "  Downloading ECPy-1.2.5-py3-none-any.whl (43 kB)\n",
            "\u001b[2K     \u001b[90m━━━━━━━━━━━━━━━━━━━━━━━━━━━━━━━━━━━━━━━━\u001b[0m \u001b[32m43.1/43.1 kB\u001b[0m \u001b[31m4.4 MB/s\u001b[0m eta \u001b[36m0:00:00\u001b[0m\n",
            "\u001b[?25hCollecting base58<3.0.0,>=2.1.0 (from xrpl-py)\n",
            "  Downloading base58-2.1.1-py3-none-any.whl (5.6 kB)\n",
            "Collecting httpx<0.25.0,>=0.18.1 (from xrpl-py)\n",
            "  Downloading httpx-0.24.1-py3-none-any.whl (75 kB)\n",
            "\u001b[2K     \u001b[90m━━━━━━━━━━━━━━━━━━━━━━━━━━━━━━━━━━━━━━━━\u001b[0m \u001b[32m75.4/75.4 kB\u001b[0m \u001b[31m6.1 MB/s\u001b[0m eta \u001b[36m0:00:00\u001b[0m\n",
            "\u001b[?25hCollecting pycryptodome<4.0.0,>=3.16.0 (from xrpl-py)\n",
            "  Downloading pycryptodome-3.19.1-cp35-abi3-manylinux_2_17_x86_64.manylinux2014_x86_64.whl (2.1 MB)\n",
            "\u001b[2K     \u001b[90m━━━━━━━━━━━━━━━━━━━━━━━━━━━━━━━━━━━━━━━━\u001b[0m \u001b[32m2.1/2.1 MB\u001b[0m \u001b[31m15.5 MB/s\u001b[0m eta \u001b[36m0:00:00\u001b[0m\n",
            "\u001b[?25hCollecting types-Deprecated<2.0.0,>=1.2.9 (from xrpl-py)\n",
            "  Downloading types_Deprecated-1.2.9.20240106-py3-none-any.whl (3.5 kB)\n",
            "Requirement already satisfied: typing-extensions<5.0.0,>=4.2.0 in /usr/local/lib/python3.10/dist-packages (from xrpl-py) (4.5.0)\n",
            "Collecting websockets<12.0,>=11.0 (from xrpl-py)\n",
            "  Downloading websockets-11.0.3-cp310-cp310-manylinux_2_5_x86_64.manylinux1_x86_64.manylinux_2_17_x86_64.manylinux2014_x86_64.whl (129 kB)\n",
            "\u001b[2K     \u001b[90m━━━━━━━━━━━━━━━━━━━━━━━━━━━━━━━━━━━━━━━━\u001b[0m \u001b[32m129.9/129.9 kB\u001b[0m \u001b[31m15.5 MB/s\u001b[0m eta \u001b[36m0:00:00\u001b[0m\n",
            "\u001b[?25hRequirement already satisfied: wrapt<2,>=1.10 in /usr/local/lib/python3.10/dist-packages (from Deprecated<2.0.0,>=1.2.13->xrpl-py) (1.14.1)\n",
            "Requirement already satisfied: certifi in /usr/local/lib/python3.10/dist-packages (from httpx<0.25.0,>=0.18.1->xrpl-py) (2023.11.17)\n",
            "Collecting httpcore<0.18.0,>=0.15.0 (from httpx<0.25.0,>=0.18.1->xrpl-py)\n",
            "  Downloading httpcore-0.17.3-py3-none-any.whl (74 kB)\n",
            "\u001b[2K     \u001b[90m━━━━━━━━━━━━━━━━━━━━━━━━━━━━━━━━━━━━━━━━\u001b[0m \u001b[32m74.5/74.5 kB\u001b[0m \u001b[31m8.6 MB/s\u001b[0m eta \u001b[36m0:00:00\u001b[0m\n",
            "\u001b[?25hRequirement already satisfied: idna in /usr/local/lib/python3.10/dist-packages (from httpx<0.25.0,>=0.18.1->xrpl-py) (3.6)\n",
            "Requirement already satisfied: sniffio in /usr/local/lib/python3.10/dist-packages (from httpx<0.25.0,>=0.18.1->xrpl-py) (1.3.0)\n",
            "Collecting h11<0.15,>=0.13 (from httpcore<0.18.0,>=0.15.0->httpx<0.25.0,>=0.18.1->xrpl-py)\n",
            "  Downloading h11-0.14.0-py3-none-any.whl (58 kB)\n",
            "\u001b[2K     \u001b[90m━━━━━━━━━━━━━━━━━━━━━━━━━━━━━━━━━━━━━━━━\u001b[0m \u001b[32m58.3/58.3 kB\u001b[0m \u001b[31m7.2 MB/s\u001b[0m eta \u001b[36m0:00:00\u001b[0m\n",
            "\u001b[?25hRequirement already satisfied: anyio<5.0,>=3.0 in /usr/local/lib/python3.10/dist-packages (from httpcore<0.18.0,>=0.15.0->httpx<0.25.0,>=0.18.1->xrpl-py) (3.7.1)\n",
            "Requirement already satisfied: exceptiongroup in /usr/local/lib/python3.10/dist-packages (from anyio<5.0,>=3.0->httpcore<0.18.0,>=0.15.0->httpx<0.25.0,>=0.18.1->xrpl-py) (1.2.0)\n",
            "Installing collected packages: ECPy, websockets, types-Deprecated, pycryptodome, h11, Deprecated, base58, httpcore, httpx, xrpl-py\n",
            "Successfully installed Deprecated-1.2.14 ECPy-1.2.5 base58-2.1.1 h11-0.14.0 httpcore-0.17.3 httpx-0.24.1 pycryptodome-3.19.1 types-Deprecated-1.2.9.20240106 websockets-11.0.3 xrpl-py-2.5.0\n"
          ]
        }
      ],
      "source": [
        "!pip3 install xrpl-py"
      ]
    },
    {
      "cell_type": "code",
      "source": [
        "from xrpl.asyncio.clients import AsyncJsonRpcClient\n",
        "JSON_RPC_URL = \"https://s.altnet.rippletest.net:51234/\"\n",
        "client = AsyncJsonRpcClient(JSON_RPC_URL)\n"
      ],
      "metadata": {
        "id": "tWLHokG3Xp-3"
      },
      "execution_count": 2,
      "outputs": []
    },
    {
      "cell_type": "code",
      "source": [
        "from xrpl.models import ServerInfo\n",
        "from pprint import pprint\n",
        "pprint(await client.request(ServerInfo()))"
      ],
      "metadata": {
        "colab": {
          "base_uri": "https://localhost:8080/"
        },
        "id": "HCpOZowAXstC",
        "outputId": "3d427249-f7a7-424c-db1c-681236b46116"
      },
      "execution_count": 3,
      "outputs": [
        {
          "output_type": "stream",
          "name": "stdout",
          "text": [
            "Response(status=<ResponseStatus.SUCCESS: 'success'>,\n",
            "         result={'info': {'build_version': '2.0.0-rc6',\n",
            "                          'complete_ledgers': '27224048-44329144',\n",
            "                          'hostid': 'FLAK',\n",
            "                          'initial_sync_duration_us': '102209392',\n",
            "                          'io_latency_ms': 1,\n",
            "                          'jq_trans_overflow': '0',\n",
            "                          'last_close': {'converge_time_s': 2, 'proposers': 6},\n",
            "                          'load_factor': 1,\n",
            "                          'network_id': 1,\n",
            "                          'peer_disconnects': '97864',\n",
            "                          'peer_disconnects_resources': '6810',\n",
            "                          'peers': 100,\n",
            "                          'ports': [{'port': '2459', 'protocol': ['peer']},\n",
            "                                    {'port': '51233',\n",
            "                                     'protocol': ['ws2', 'wss2']},\n",
            "                                    {'port': '50051', 'protocol': ['grpc']}],\n",
            "                          'pubkey_node': 'n9LsLq1XmifBuUF5VcUgHuVoRuhMrhWE5XTNgMTtehzn97JywoD2',\n",
            "                          'server_state': 'full',\n",
            "                          'server_state_duration_us': '958120919183',\n",
            "                          'state_accounting': {'connected': {'duration_us': '66730585',\n",
            "                                                             'transitions': '48'},\n",
            "                                               'disconnected': {'duration_us': '65189073',\n",
            "                                                                'transitions': '2'},\n",
            "                                               'full': {'duration_us': '1372825236843',\n",
            "                                                        'transitions': '138'},\n",
            "                                               'syncing': {'duration_us': '136497483',\n",
            "                                                           'transitions': '100'},\n",
            "                                               'tracking': {'duration_us': '393370121',\n",
            "                                                            'transitions': '146'}},\n",
            "                          'time': '2024-Jan-06 17:25:23.593427 UTC',\n",
            "                          'uptime': 1373487,\n",
            "                          'validated_ledger': {'age': 2,\n",
            "                                               'base_fee_xrp': 1e-05,\n",
            "                                               'hash': 'B429166C77340E6B3240973C00B3E03D8676139046CA8158C7EE151517C6FD13',\n",
            "                                               'reserve_base_xrp': 10,\n",
            "                                               'reserve_inc_xrp': 2,\n",
            "                                               'seq': 44329144},\n",
            "                          'validation_quorum': 5}},\n",
            "         id=None,\n",
            "         type=<ResponseType.RESPONSE: 'response'>)\n"
          ]
        }
      ]
    },
    {
      "cell_type": "code",
      "source": [
        "from xrpl.asyncio.wallet import generate_faucet_wallet\n",
        "wallet = await generate_faucet_wallet(client)\n",
        "print(wallet)"
      ],
      "metadata": {
        "colab": {
          "base_uri": "https://localhost:8080/"
        },
        "id": "-4emp790khJo",
        "outputId": "80ddf956-df40-462a-fa80-0948e1583238"
      },
      "execution_count": 4,
      "outputs": [
        {
          "output_type": "stream",
          "name": "stdout",
          "text": [
            "public_key: EDDA5A0D94D7835F412267A9CB1517FC4CBEE84601B90290377850646F90532E95\n",
            "private_key: -HIDDEN-\n",
            "classic_address: rEpPjFRjcFZN7MJhGup9NMF9haUZBrBTVK\n"
          ]
        }
      ]
    },
    {
      "cell_type": "code",
      "source": [
        "from xrpl.models import Payment\n",
        "from xrpl.utils import xrp_to_drops #1 mil drops in 1 xrp\n",
        "from xrpl.wallet import Wallet\n",
        "wallet2 = Wallet.create()\n",
        "payment =  Payment(account=wallet.classic_address, amount=xrp_to_drops(23), destination=wallet2.classic_address)\n",
        "pprint(payment) #sending a mock transaction of 23 xrp from one wallet to another"
      ],
      "metadata": {
        "colab": {
          "base_uri": "https://localhost:8080/"
        },
        "id": "r8Cer1PPX3E6",
        "outputId": "2561432e-77d1-4b45-9ea9-b220004c652f"
      },
      "execution_count": 5,
      "outputs": [
        {
          "output_type": "stream",
          "name": "stdout",
          "text": [
            "Payment(account='rEpPjFRjcFZN7MJhGup9NMF9haUZBrBTVK',\n",
            "        transaction_type=<TransactionType.PAYMENT: 'Payment'>,\n",
            "        fee=None,\n",
            "        sequence=None,\n",
            "        account_txn_id=None,\n",
            "        flags=0,\n",
            "        last_ledger_sequence=None,\n",
            "        memos=None,\n",
            "        signers=None,\n",
            "        source_tag=None,\n",
            "        signing_pub_key='',\n",
            "        ticket_sequence=None,\n",
            "        txn_signature=None,\n",
            "        network_id=None,\n",
            "        amount='23000000',\n",
            "        destination='rpvsQmvcstegUhCX72ZfHpu91MpLBqbPEQ',\n",
            "        destination_tag=None,\n",
            "        invoice_id=None,\n",
            "        paths=None,\n",
            "        send_max=None,\n",
            "        deliver_min=None)\n"
          ]
        }
      ]
    },
    {
      "cell_type": "code",
      "source": [
        "#Our wallet has 23,000,000 drops now or 23 xrp :D"
      ],
      "metadata": {
        "id": "2MosICO5mdhv"
      },
      "execution_count": 33,
      "outputs": []
    },
    {
      "cell_type": "markdown",
      "source": [
        "# Sending transactions between wallets\n",
        "documentation: https://xrpl-py.readthedocs.io/en/stable/source/snippets.html#send-a-transaction-and-see-if-it-gets-validated"
      ],
      "metadata": {
        "id": "n9PXhlYVZwYV"
      }
    },
    {
      "cell_type": "code",
      "source": [
        "from xrpl.asyncio.account import get_balance\n",
        "from xrpl.asyncio.clients import AsyncJsonRpcClient\n",
        "from xrpl.models import Payment, SetRegularKey\n",
        "from xrpl.asyncio.transaction import submit_and_wait\n",
        "from xrpl.asyncio.wallet import generate_faucet_wallet\n",
        "#loan amount can be set to payment amount between loaner and loanee's wallet.\n",
        "#\n"
      ],
      "metadata": {
        "id": "2OjZ303_nB2v"
      },
      "execution_count": 34,
      "outputs": []
    },
    {
      "cell_type": "code",
      "source": [
        "wallet1 = await generate_faucet_wallet(client, debug =True)\n",
        "wallet2 = await generate_faucet_wallet(client, debug=True)\n",
        "regular_key_wallet = await generate_faucet_wallet(client, debug=True)\n",
        "\n",
        "print(\"Balances before payment:\")\n",
        "print(await get_balance(wallet1.classic_address, client))\n",
        "print(await get_balance(wallet2.classic_address, client))"
      ],
      "metadata": {
        "colab": {
          "base_uri": "https://localhost:8080/"
        },
        "id": "ENuZrAhPK_4P",
        "outputId": "72905fe7-756a-435d-e592-dce8a6c7d65b"
      },
      "execution_count": 35,
      "outputs": [
        {
          "output_type": "stream",
          "name": "stdout",
          "text": [
            "Attempting to fund address rhiKsgjXCkWVwqA49HJiTBjKrZFdKoMH5A\n",
            "Faucet fund successful.\n",
            "Attempting to fund address rz8Ntx75iBAGQ9qLtQTvowGBvr5uKT4dN\n",
            "Faucet fund successful.\n",
            "Attempting to fund address rJG8tTSAWHHJzrvnttbeQe2B1JR9RUeJ1r\n",
            "Faucet fund successful.\n",
            "Balances before payment:\n",
            "10000000000\n",
            "10000000000\n"
          ]
        }
      ]
    },
    {
      "cell_type": "code",
      "source": [
        "# Assign key pair (regular_key_wallet) to wallet1 using SetRegularKey transaction\n",
        "tx = SetRegularKey(account=wallet1.address, regular_key=regular_key_wallet.address)"
      ],
      "metadata": {
        "id": "bLf2zvvUXV2H"
      },
      "execution_count": 36,
      "outputs": []
    },
    {
      "cell_type": "code",
      "source": [
        "set_regular_key_response = await submit_and_wait(tx, client, wallet1)\n",
        "\n",
        "print(\"Response for successful SetRegularKey tx:\")\n",
        "print(set_regular_key_response)"
      ],
      "metadata": {
        "colab": {
          "base_uri": "https://localhost:8080/"
        },
        "id": "VuhmxXHJYq6r",
        "outputId": "d4ad38a8-4b22-41ea-e1c0-7e6ad8f6c293"
      },
      "execution_count": 37,
      "outputs": [
        {
          "output_type": "stream",
          "name": "stdout",
          "text": [
            "Response for successful SetRegularKey tx:\n",
            "Response(status=<ResponseStatus.SUCCESS: 'success'>, result={'Account': 'rhiKsgjXCkWVwqA49HJiTBjKrZFdKoMH5A', 'Fee': '10', 'Flags': 0, 'LastLedgerSequence': 44332419, 'RegularKey': 'rJG8tTSAWHHJzrvnttbeQe2B1JR9RUeJ1r', 'Sequence': 44332393, 'SigningPubKey': 'ED9F223B9ABE8CB3BB35C2D0DF3FACC0E5E20D038199890BF2698C0DF996392727', 'TransactionType': 'SetRegularKey', 'TxnSignature': '609D7E57C2E0D90FD900D3EF5457DA42722BA96CECED9B83E971A6699BC5799FA2823FD529E10A6BF3D61771030CF1CFC390871DD8DABA46830C694812716F01', 'ctid': 'C2A4757100120001', 'date': 757887470, 'hash': '1C625633B07CCDE2D0598CBF61594EA605DE95DF2A1E627FDEBAC9AD443F0AD1', 'inLedger': 44332401, 'ledger_index': 44332401, 'meta': {'AffectedNodes': [{'ModifiedNode': {'FinalFields': {'Account': 'rhiKsgjXCkWVwqA49HJiTBjKrZFdKoMH5A', 'Balance': '9999999990', 'Flags': 65536, 'OwnerCount': 0, 'RegularKey': 'rJG8tTSAWHHJzrvnttbeQe2B1JR9RUeJ1r', 'Sequence': 44332394}, 'LedgerEntryType': 'AccountRoot', 'LedgerIndex': '5579CAB4516C50E9B2EADAC7C86DD602DF93E54C92DE4A18B4E5DD3339C72DEA', 'PreviousFields': {'Balance': '10000000000', 'Flags': 0, 'Sequence': 44332393}, 'PreviousTxnID': 'FB367DDB98814A5AA9DF0B5DE9BCB3644CEDE2B7292803777659216CDB9EF9C8', 'PreviousTxnLgrSeq': 44332393}}], 'TransactionIndex': 18, 'TransactionResult': 'tesSUCCESS'}, 'validated': True}, id=None, type=<ResponseType.RESPONSE: 'response'>)\n"
          ]
        }
      ]
    },
    {
      "cell_type": "code",
      "source": [
        "# Since regular_key_wallet is linked to wallet1,\n",
        "# walet1 can send payment to wallet2 and have regular_key_wallet sign it\n",
        "payment =  Payment(\n",
        "    account=wallet1.address,\n",
        "    destination=wallet2.address,\n",
        "    amount=\"1000\",\n",
        ")"
      ],
      "metadata": {
        "id": "2Zsu7yzhYuZk"
      },
      "execution_count": 38,
      "outputs": []
    },
    {
      "cell_type": "code",
      "source": [
        "payment_response = await submit_and_wait(payment, client, regular_key_wallet)\n"
      ],
      "metadata": {
        "id": "froOWHzzYzMH"
      },
      "execution_count": 39,
      "outputs": []
    },
    {
      "cell_type": "code",
      "source": [
        "print(\"Response for tx signed using Regular Key:\")\n",
        "pprint(payment_response)\n",
        "\n",
        "# Balance after sending 1000 from wallet1 to wallet2\n",
        "print(\"Balances after payment:\")\n",
        "print(await get_balance(wallet1.address, client))\n",
        "print(await get_balance(wallet2.address, client))"
      ],
      "metadata": {
        "colab": {
          "base_uri": "https://localhost:8080/"
        },
        "id": "jwu4_7AtY0P8",
        "outputId": "2f3060d3-2051-49e8-984c-3ea8e46423b3"
      },
      "execution_count": 41,
      "outputs": [
        {
          "output_type": "stream",
          "name": "stdout",
          "text": [
            "Response for tx signed using Regular Key:\n",
            "Response(status=<ResponseStatus.SUCCESS: 'success'>,\n",
            "         result={'Account': 'rhiKsgjXCkWVwqA49HJiTBjKrZFdKoMH5A',\n",
            "                 'Amount': '1000',\n",
            "                 'DeliverMax': '1000',\n",
            "                 'Destination': 'rz8Ntx75iBAGQ9qLtQTvowGBvr5uKT4dN',\n",
            "                 'Fee': '10',\n",
            "                 'Flags': 0,\n",
            "                 'LastLedgerSequence': 44332423,\n",
            "                 'Sequence': 44332394,\n",
            "                 'SigningPubKey': 'EDAB8631A56B44DAE15747DE89FD87394DBD4D08FC13F66E0C9A6E4321C39C852B',\n",
            "                 'TransactionType': 'Payment',\n",
            "                 'TxnSignature': 'BCD21E57B15D4C86E97EE498CD364E0DD2F7E9DE9590728485FE6C2C9CC3CB48A3CFD0C6B6F41334D9D0DCA5F8F8864A781B1B9D267A59BA51E072D27547E103',\n",
            "                 'ctid': 'C2A4757500000001',\n",
            "                 'date': 757887481,\n",
            "                 'hash': '6B11DE0C011CA90ACBD84030C1ACAA05990DCE735216A1F13AD897EE56B66D3C',\n",
            "                 'inLedger': 44332405,\n",
            "                 'ledger_index': 44332405,\n",
            "                 'meta': {'AffectedNodes': [{'ModifiedNode': {'FinalFields': {'Account': 'rz8Ntx75iBAGQ9qLtQTvowGBvr5uKT4dN',\n",
            "                                                                              'Balance': '10000001000',\n",
            "                                                                              'Flags': 0,\n",
            "                                                                              'OwnerCount': 0,\n",
            "                                                                              'Sequence': 44332395},\n",
            "                                                              'LedgerEntryType': 'AccountRoot',\n",
            "                                                              'LedgerIndex': '1AE26FFC1F4AFA6B662F38AADC497E92C18EBE8F88036F9D852CBF64AA3CB42E',\n",
            "                                                              'PreviousFields': {'Balance': '10000000000'},\n",
            "                                                              'PreviousTxnID': '9CF65589B130F11BA1BC84BF6451BACB677ECC2816DF00ACC1136C0DE2A22119',\n",
            "                                                              'PreviousTxnLgrSeq': 44332395}},\n",
            "                                            {'ModifiedNode': {'FinalFields': {'Account': 'rhiKsgjXCkWVwqA49HJiTBjKrZFdKoMH5A',\n",
            "                                                                              'Balance': '9999998980',\n",
            "                                                                              'Flags': 65536,\n",
            "                                                                              'OwnerCount': 0,\n",
            "                                                                              'RegularKey': 'rJG8tTSAWHHJzrvnttbeQe2B1JR9RUeJ1r',\n",
            "                                                                              'Sequence': 44332395},\n",
            "                                                              'LedgerEntryType': 'AccountRoot',\n",
            "                                                              'LedgerIndex': '5579CAB4516C50E9B2EADAC7C86DD602DF93E54C92DE4A18B4E5DD3339C72DEA',\n",
            "                                                              'PreviousFields': {'Balance': '9999999990',\n",
            "                                                                                 'Sequence': 44332394},\n",
            "                                                              'PreviousTxnID': '1C625633B07CCDE2D0598CBF61594EA605DE95DF2A1E627FDEBAC9AD443F0AD1',\n",
            "                                                              'PreviousTxnLgrSeq': 44332401}}],\n",
            "                          'TransactionIndex': 0,\n",
            "                          'TransactionResult': 'tesSUCCESS',\n",
            "                          'delivered_amount': '1000'},\n",
            "                 'validated': True},\n",
            "         id=None,\n",
            "         type=<ResponseType.RESPONSE: 'response'>)\n",
            "Balances after payment:\n",
            "9999998980\n",
            "10000001000\n"
          ]
        }
      ]
    },
    {
      "cell_type": "code",
      "source": [],
      "metadata": {
        "id": "6zRRJzQ8ZqS7"
      },
      "execution_count": null,
      "outputs": []
    }
  ]
}